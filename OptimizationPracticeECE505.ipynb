{
 "cells": [
  {
   "cell_type": "markdown",
   "metadata": {},
   "source": [
    "## This notebook is for optimization practice from ECE-505\n",
    "##### Examples are taken from youtuber Siraj Raval : https://github.com/llSourcell/The_evolution_of_gradient_descent/blob/master/GD_vs_SGD.ipynb"
   ]
  },
  {
   "cell_type": "markdown",
   "metadata": {},
   "source": [
    "### Gradient Descent method"
   ]
  },
  {
   "cell_type": "code",
   "execution_count": 1,
   "metadata": {
    "collapsed": true
   },
   "outputs": [],
   "source": [
    "%matplotlib inline\n",
    "import numpy as np\n",
    "import scipy as sp\n",
    "import matplotlib.pyplot as plt\n",
    "import random\n",
    "import time"
   ]
  },
  {
   "cell_type": "code",
   "execution_count": 2,
   "metadata": {
    "collapsed": true
   },
   "outputs": [],
   "source": [
    "# Create function\n",
    "\n",
    "#f = lambda x: x**3-2*x**2+2\n",
    "f = lambda x: x**2-2*x+2"
   ]
  },
  {
   "cell_type": "code",
   "execution_count": 3,
   "metadata": {},
   "outputs": [
    {
     "data": {
      "image/png": "[encoded data removed]",
      "text/plain": [
       "<matplotlib.figure.Figure at 0x1c640486be0>"
      ]
     },
     "metadata": {},
     "output_type": "display_data"
    }
   ],
   "source": [
    "# Plot for values of x\n",
    "x = np.linspace(-2.5,2.5,10000)\n",
    "plt.plot(x,f(x))\n",
    "plt.xlim([-2.5,2.5])\n",
    "plt.ylim([0,5])\n",
    "plt.show()\n",
    "\n",
    "# From the graph local min is approx at (1.5,0.9)"
   ]
  },
  {
   "cell_type": "code",
   "execution_count": 4,
   "metadata": {},
   "outputs": [
    {
     "name": "stdout",
     "output_type": "stream",
     "text": [
      "Local minimum occurs at: 1.0003245185536584\n",
      "Number of steps: 37\n",
      "runtime:  0.0020017623901367188\n"
     ]
    }
   ],
   "source": [
    "g = 1\n",
    "f = lambda x: x**2-2*x+2\n",
    "\n",
    "precision = 0.0001\n",
    "alp = 0.1\n",
    "xold = 0\n",
    "xnew = 2\n",
    "xlist, ylist = [xnew], [f(xnew)]\n",
    "\n",
    "def f_prime(x):\n",
    "    #return 3*x**2-4*x\n",
    "    return 2*x - 2\n",
    "\n",
    "# Calculate runtime\n",
    "starttime = time.time()\n",
    "\n",
    "# Formula for gradint descent\n",
    "while abs(xnew - xold) > precision:\n",
    "   # print(\"Precision:\", abs(xnew-xold))\n",
    "    xold = xnew\n",
    "    direc = -1*f_prime(xold)\n",
    "    xnew = xold + alp*direc\n",
    "    xlist.append(xnew)\n",
    "    ylist.append(f(xnew))\n",
    "\n",
    "runtime = time.time() - starttime\n",
    "    \n",
    "    \n",
    "print (\"Local minimum occurs at:\", xnew)\n",
    "print (\"Number of steps:\", len(xlist))\n",
    "print (\"runtime: \", runtime)\n"
   ]
  },
  {
   "cell_type": "code",
   "execution_count": 26,
   "metadata": {},
   "outputs": [
    {
     "name": "stdout",
     "output_type": "stream",
     "text": [
      "[2, 1.6, 1.472, 1.4107648, 1.377993523724288, 1.3595310877861793, 1.3488460893035294, 1.3425687932361137, 1.3388490211591169, 1.336633619185146, 1.3353102372784098, 1.3345183032556167, 1.3340438940405883, 1.3337595182887307, 1.333588989816487, 1.3334867076151544, 1.3334253508453249]\n",
      "[2, 0.976, 0.8559380480000001, 0.8272703294568053, 0.8188929562322413, 0.8162054395956542, 0.8152998390868302, 0.814986189980774, 0.8148758282419326, 0.8148366345345619, 0.8148226388392663, 0.8148176247861283, 0.8148158249666122, 0.8148151781594568, 0.8148149455519995, 0.8148148618657634, 0.8148148317500392]\n"
     ]
    }
   ],
   "source": [
    "print(xlist)\n",
    "print(ylist)"
   ]
  },
  {
   "cell_type": "code",
   "execution_count": 34,
   "metadata": {},
   "outputs": [
    {
     "data": {
      "text/plain": [
       "<matplotlib.text.Text at 0x1b49540a7b8>"
      ]
     },
     "execution_count": 34,
     "metadata": {},
     "output_type": "execute_result"
    },
    {
     "data": {
      "image/png": "[encoded data removed]",
      "text/plain": [
       "<matplotlib.figure.Figure at 0x1b4953e5828>"
      ]
     },
     "metadata": {},
     "output_type": "display_data"
    }
   ],
   "source": [
    "# Plot the descent\n",
    "plt.figure(figsize=[10,3])\n",
    "plt.subplot(1,2,1)\n",
    "plt.scatter(xlist,ylist,c=\"r\")\n",
    "\n",
    "plt.plot(xlist,ylist,c=\"r\")\n",
    "plt.plot(x,f(x), c=\"b\")\n",
    "plt.xlim([-1,2.5])\n",
    "plt.ylim([0,3])\n",
    "plt.title(\"Gradient descent\")"
   ]
  },
  {
   "cell_type": "code",
   "execution_count": 46,
   "metadata": {},
   "outputs": [
    {
     "name": "stdout",
     "output_type": "stream",
     "text": [
      "Local minimum occurs at  1.3333333284505209\n",
      "Number of steps: 4\n",
      "runtime:  0.01200103759765625\n"
     ]
    }
   ],
   "source": [
    "# step size was constant. Let's use variable step size using scipy\n",
    "# Minimize a function using the downhill simplex algorithm.\n",
    "from scipy import stats\n",
    "from scipy.optimize import fmin\n",
    "#help(fmin)\n",
    "\n",
    "# we setup this function to pass into the fmin algorithm\n",
    "def f2(n,x,s):\n",
    "    x = x + n*s\n",
    "    return f(x)\n",
    "\n",
    "xold = 0\n",
    "xnew = 2 # The algorithm starts at x=2\n",
    "precision = 0.0001\n",
    "\n",
    "xlist, ylist = [xnew], [f(xnew)]\n",
    "\n",
    "# returns the value of the derivative of our function\n",
    "def f_prime(x):\n",
    "    return 3*x**2-4*x\n",
    "\n",
    "# Calculate runtime\n",
    "starttime = time.time()\n",
    "\n",
    "while abs(xnew - xold) > precision:\n",
    "    xold = xnew\n",
    "    direc = -1*f_prime(xold)\n",
    "    \n",
    "    # use scipy fmin function to find ideal step size.\n",
    "    alp = fmin(f2,0.1,(xold,direc), full_output = False, disp = False)\n",
    "\n",
    "    xnew = xold + alp * direc\n",
    "    xlist.append(xnew)\n",
    "    ylist.append(f(xnew))\n",
    "\n",
    "runtime = time.time() - starttime    \n",
    "    \n",
    "print (\"Local minimum occurs at \", float(xnew))\n",
    "print (\"Number of steps:\", len(xlist))\n",
    "print (\"runtime: \", runtime)\n"
   ]
  },
  {
   "cell_type": "code",
   "execution_count": 42,
   "metadata": {},
   "outputs": [
    {
     "data": {
      "text/plain": [
       "<matplotlib.text.Text at 0x1b495e23be0>"
      ]
     },
     "execution_count": 42,
     "metadata": {},
     "output_type": "execute_result"
    },
    {
     "data": {
      "image/png": "[encoded data removed]",
      "text/plain": [
       "<matplotlib.figure.Figure at 0x1b495df77b8>"
      ]
     },
     "metadata": {},
     "output_type": "display_data"
    }
   ],
   "source": [
    "# We see it converges quickly in lesser steps but time consumed is higher ofcourse\n",
    "\n",
    "# Plot the descent\n",
    "plt.figure(figsize=[10,3])\n",
    "plt.subplot(1,2,1)\n",
    "plt.scatter(xlist,ylist,c=\"r\")\n",
    "\n",
    "plt.plot(xlist,ylist,c=\"r\")\n",
    "plt.plot(x,f(x), c=\"b\")\n",
    "plt.xlim([-1,2.5])\n",
    "plt.ylim([0,3])\n",
    "plt.title(\"Gradient descent with moving step\")"
   ]
  },
  {
   "cell_type": "code",
   "execution_count": 2,
   "metadata": {},
   "outputs": [
    {
     "ename": "SyntaxError",
     "evalue": "invalid syntax (<ipython-input-2-5898a5500931>, line 2)",
     "output_type": "error",
     "traceback": [
      "\u001b[1;36m  File \u001b[1;32m\"<ipython-input-2-5898a5500931>\"\u001b[1;36m, line \u001b[1;32m2\u001b[0m\n\u001b[1;33m    f = lambda x: 5*x1**4 + 6x2**4 - 6*x1**2 + 2*x1*x2 + 5*x2**2 + 15*x1 -7*x2 + 13\u001b[0m\n\u001b[1;37m                              ^\u001b[0m\n\u001b[1;31mSyntaxError\u001b[0m\u001b[1;31m:\u001b[0m invalid syntax\n"
     ]
    }
   ],
   "source": [
    "# Newton's method\n",
    "f = lambda x1,x2: 5*x1**4 + 6*x2**4 - 6*x1**2 + 2*x1*x2 + 5*x2**2 + 15*x1 -7*x2 + 13\n",
    "\n",
    "precision = 0.0001\n",
    "xold = np.matrix('0;0')\n",
    "xnew = np.matrix('1;1')\n",
    "xlist, ylist = [xnew], [f(xnew)]\n",
    "\n",
    "def f_prime(x1, x2):\n",
    "    return np.matrix('(20*x1**3)-(12*x1)+(2*x2)+15;(24*x2**3)+(2*x1)+(10*x2)-7')\n",
    "\n",
    "def f_primeprime(x1, x2):\n",
    "    return np.matrix('((60*x1**2)-12) (2); (2) ((72*x2**2)+10)')\n",
    "\n",
    "# Calculate runtime\n",
    "starttime = time.time()\n",
    "\n",
    "# Formula for gradint descent\n",
    "while abs(xnew - xold) > precision:\n",
    "   # print(\"Precision:\", abs(xnew-xold))\n",
    "    xold = xnew\n",
    "    direc = -1*np.linalg.inv(f_primeprime(xold))*f_prime(xold)\n",
    "    xnew = xold + direc\n",
    "    xlist.append(xnew)\n",
    "    ylist.append(f(xnew))\n",
    "\n",
    "runtime = time.time() - starttime\n",
    "    \n",
    "    \n",
    "print (\"Local minimum occurs at:\", xnew)\n",
    "print (\"Number of steps:\", len(xlist))\n",
    "print (\"runtime: \", runtime)"
   ]
  },
  {
   "cell_type": "code",
   "execution_count": 21,
   "metadata": {},
   "outputs": [
    {
     "name": "stdout",
     "output_type": "stream",
     "text": [
      "xnew [[ 0.678617  ]\n",
      " [ 0.64901034]]\n"
     ]
    }
   ],
   "source": [
    "# Newton's method\n",
    "f = lambda x1,x2: 5*x1**4 + 6*x2**4 - 6*x1**2 + 2*x1*x2 + 5*x2**2 + 15*x1 -7*x2 + 13\n",
    "\n",
    "def f_prime(x1, x2):\n",
    "    return np.matrix('20*x1**3-12*x1+2*x2+15;24*x2**3+2*x1+10*x2-7')\n",
    "\n",
    "def f_primeprime(x1, x2):\n",
    "    return np.matrix('((60*x1**2)-12) (2); (2) ((72*x2**2)+10)')\n",
    "\n",
    "xold = np.matrix('1;1')\n",
    "#xnew = np.matrix('1;1')\n",
    "\n",
    "direc = -1* np.linalg.inv(f_primeprime(1,1)) * f_prime(1,1)\n",
    "xnew = xold + direc\n",
    "    \n",
    "print (\"xnew\", xnew)"
   ]
  },
  {
   "cell_type": "code",
   "execution_count": 49,
   "metadata": {},
   "outputs": [
    {
     "name": "stdout",
     "output_type": "stream",
     "text": [
      "fprime:\n",
      "-0.0031314292199944305\n",
      "-0.002355574312000286\n",
      "\n",
      "\n",
      "fprimeprime:\n",
      "66.26354459999999\n",
      "31.252592080000003\n"
     ]
    }
   ],
   "source": [
    "x1 = -1.1421\n",
    "x2 = 0.5433\n",
    "fprime1 = 20*x1**3-12*x1+2*x2+15\n",
    "fprime2 = 24*x2**3+2*x1+10*x2-7\n",
    "\n",
    "fprimeprime11 = (60*x1**2)-12\n",
    "fprimeprime22 = (72*x2**2)+10\n",
    "\n",
    "print(\"fprime:\"); print(fprime1); print(fprime2)\n",
    "print(\"\\n\")\n",
    "print(\"fprimeprime:\"); print(fprimeprime11); print(fprimeprime22)\n"
   ]
  },
  {
   "cell_type": "code",
   "execution_count": 50,
   "metadata": {},
   "outputs": [
    {
     "name": "stdout",
     "output_type": "stream",
     "text": [
      "xnew [[-1.14205535]\n",
      " [ 0.54337074]]\n"
     ]
    }
   ],
   "source": [
    "x = np.matrix('-1.1421; 0.5433')\n",
    "\n",
    "b = np.matrix('-0.0031; -0.0023')  #prime\n",
    "\n",
    "a = np.matrix('66.2635 2; 2 31.2525')  #prime prime\n",
    "print(\"xnew\",x - (np.linalg.inv(a) * b))"
   ]
  },
  {
   "cell_type": "code",
   "execution_count": 52,
   "metadata": {},
   "outputs": [
    {
     "name": "stdout",
     "output_type": "stream",
     "text": [
      "Local minimum occurs at: 0.00043953927646868873\n",
      "Number of steps: 51\n",
      "runtime:  0.001001119613647461\n"
     ]
    }
   ],
   "source": [
    "# Newton method in 2 dims\n",
    "\n",
    "f = lambda x: x**4 - 1\n",
    "\n",
    "precision = 0.0001\n",
    "xold = 0\n",
    "xnew = 4\n",
    "xlist, ylist = [xnew], [f(xnew)]\n",
    "\n",
    "def f_prime(x):\n",
    "    return 2*x**3\n",
    "\n",
    "def f_prime_prime(x):\n",
    "    return 12*x**2\n",
    "\n",
    "# Calculate runtime\n",
    "starttime = time.time()\n",
    "\n",
    "# Formula for gradint descent\n",
    "while abs(xnew - xold) > precision:\n",
    "   # print(\"Precision:\", abs(xnew-xold))\n",
    "    xold = xnew\n",
    "    direc = (-1*f_prime(xold))/f_prime_prime(xold)\n",
    "    xnew = xold + direc\n",
    "    xlist.append(xnew)\n",
    "    ylist.append(f(xnew))\n",
    "\n",
    "runtime = time.time() - starttime\n",
    "        \n",
    "print (\"Local minimum occurs at:\", xnew)\n",
    "print (\"Number of steps:\", len(xlist))\n",
    "print (\"runtime: \", runtime)\n"
   ]
  },
  {
   "cell_type": "code",
   "execution_count": 108,
   "metadata": {},
   "outputs": [
    {
     "data": {
      "text/plain": [
       "matrix([[-0.0555],\n",
       "        [-0.0517],\n",
       "        [ 0.0729]])"
      ]
     },
     "execution_count": 108,
     "metadata": {},
     "output_type": "execute_result"
    }
   ],
   "source": [
    "# Quasi Newton rank two update (BFGS)\n",
    "# update b query\n",
    "# x prime\n",
    "oldx = np.matrix('-1.1592; 0; -1.0304')\n",
    "newX = np.matrix('-2.0096; 0.9900; -0.9875')\n",
    "q = np.matrix('5 2 1; 2 7 3; 1 3 9')\n",
    "c = np.matrix('-9; 0; -8')\n",
    "newdelfx = (q * newX) - c\n",
    "olddelfx = (q * oldx) - c\n",
    "\n",
    "# update b ~ x prime prime\n",
    "y = newdelfx - olddelfx\n",
    "s = newX - oldx\n",
    "delB1 = ((-1 * (b * s) * np.transpose(b * s) / (np.transpose(s) * b * s)))\n",
    "delB2 = ((y * np.transpose(y))/(np.transpose(y) * s))\n",
    "b = np.matrix('2.9382 1.9786 3.3194; 1.9786 2.568 3.024; 3.3194 3.024 6.3906')\n",
    "newb = b + (delB1 + delB2)\n",
    "\n",
    "# find search dir\n",
    "p = np.linalg.inv(newb) * newdelfx * -1\n",
    "\n",
    "# find alpha line search\n",
    "num = -1 * np.transpose(p) * newdelfx\n",
    "den = np.transpose(p) * q * p\n",
    "alpha = num/den\n",
    "alpha = round(float(alpha),4)\n",
    "\n",
    "# new x\n",
    "newX = oldx + alpha * p"
   ]
  },
  {
   "cell_type": "code",
   "execution_count": 123,
   "metadata": {},
   "outputs": [
    {
     "data": {
      "text/plain": [
       "0.0061973718471166677"
      ]
     },
     "execution_count": 123,
     "metadata": {},
     "output_type": "execute_result"
    }
   ],
   "source": [
    "# Calculate here\n",
    "np.linalg.norm((q * newX) - c)"
   ]
  },
  {
   "cell_type": "code",
   "execution_count": null,
   "metadata": {
    "collapsed": true
   },
   "outputs": [],
   "source": [
    "# Quasi Newton rank one update\n",
    "# update b query\n",
    "# x prime\n",
    "oldx = np.matrix('-1.1592; 0; -1.0304')\n",
    "newX = np.matrix('-2.0096; 0.9900; -0.9875')\n",
    "q = np.matrix('5 2 1; 2 7 3; 1 3 9')\n",
    "c = np.matrix('-9; 0; -8')\n",
    "newdelfx = (q * newX) - c\n",
    "olddelfx = (q * oldx) - c\n",
    "\n",
    "# update b ~ x prime prime\n",
    "y = newdelfx - olddelfx\n",
    "s = newX - oldx\n",
    "numB = (y - (b * s)) * np.transpose((y - (b * s)))\n",
    "denB = np.transpose((y - (b * s))) * s\n",
    "delB = numB * np.linalg.inv(denB)\n",
    "b = np.matrix('2.9382 1.9786 3.3194; 1.9786 2.568 3.024; 3.3194 3.024 6.3906')\n",
    "newb = b + (numB)\n",
    "\n",
    "# find search dir\n",
    "p = np.linalg.inv(newb) * newdelfx * -1\n",
    "\n",
    "# find alpha line search\n",
    "num = -1 * np.transpose(p) * newdelfx\n",
    "den = np.transpose(p) * q * p\n",
    "alpha = num/den\n",
    "alpha = round(float(alpha),4)\n",
    "\n",
    "# new x\n",
    "newX = oldx + alpha * p"
   ]
  },
  {
   "cell_type": "code",
   "execution_count": 135,
   "metadata": {},
   "outputs": [
    {
     "data": {
      "text/plain": [
       "matrix([[ 1.97550427,  1.88570863,  3.27754118],\n",
       "        [ 1.88570863,  1.7999946 ,  3.12856204],\n",
       "        [ 3.27754118,  3.12856204,  5.43773878]])"
      ]
     },
     "execution_count": 135,
     "metadata": {},
     "output_type": "execute_result"
    }
   ],
   "source": [
    "# Calculxate here\n",
    "x1 = np.matrix('-1.1592; 0; -1.0304')\n",
    "s = np.matrix('-1.1592; 0; -1.0304')\n",
    "y = np.matrix('-6.8264; -5.4096; -10.4328')\n",
    "b = np.identity(3)\n",
    "numB = (y - (b * s)) * np.transpose((y - (b * s)))\n",
    "denB = np.transpose((y - (b * s))) * s\n",
    "#delB = numB * np.linalg.inv(denB)\n",
    "delB = numB / round(float(denB),4)\n",
    "delB"
   ]
  },
  {
   "cell_type": "code",
   "execution_count": 136,
   "metadata": {},
   "outputs": [
    {
     "data": {
      "text/plain": [
       "matrix([[ 2.97550427,  1.88570863,  3.27754118],\n",
       "        [ 1.88570863,  2.7999946 ,  3.12856204],\n",
       "        [ 3.27754118,  3.12856204,  6.43773878]])"
      ]
     },
     "execution_count": 136,
     "metadata": {},
     "output_type": "execute_result"
    }
   ],
   "source": [
    "b1 = b + delB\n",
    "b1"
   ]
  },
  {
   "cell_type": "code",
   "execution_count": 149,
   "metadata": {},
   "outputs": [
    {
     "data": {
      "text/plain": [
       "matrix([[-0.05640499],\n",
       "        [-0.0506815 ],\n",
       "        [ 0.07294835]])"
      ]
     },
     "execution_count": 149,
     "metadata": {},
     "output_type": "execute_result"
    }
   ],
   "source": [
    "fx1 = (q * x1) - c\n",
    "p = np.linalg.inv(b1) * fx1 * -1\n",
    "num = -1 * np.transpose(p) * fx1\n",
    "den = np.transpose(p) * q * p\n",
    "alpha = num/den\n",
    "alpha = round(float(alpha),4)\n",
    "x2 = x1 + alpha * p\n",
    "fx2 = (q * x2) - c"
   ]
  },
  {
   "cell_type": "code",
   "execution_count": 163,
   "metadata": {},
   "outputs": [
    {
     "data": {
      "text/plain": [
       "matrix([[ 3.50021121,  0.63857445,  2.68724504],\n",
       "        [ 0.63857445,  5.76420861,  4.53158998],\n",
       "        [ 2.68724504,  4.53158998,  7.10182288]])"
      ]
     },
     "execution_count": 163,
     "metadata": {},
     "output_type": "execute_result"
    }
   ],
   "source": [
    "s1 = x2 -x1\n",
    "y1 = fx2 - fx1\n",
    "numB = (y1 - (b1 * s1)) * np.transpose((y1 - (b1 * s1)))\n",
    "denB = np.transpose((y1 - (b1 * s1))) * s1\n",
    "delB = numB / round(float(denB),4)\n",
    "delB\n",
    "b2 = b1 + delB\n",
    "b2"
   ]
  },
  {
   "cell_type": "code",
   "execution_count": 169,
   "metadata": {},
   "outputs": [
    {
     "data": {
      "text/plain": [
       "0.0061902354606925862"
      ]
     },
     "execution_count": 169,
     "metadata": {},
     "output_type": "execute_result"
    }
   ],
   "source": [
    "p2 = np.linalg.inv(b2) * fx2 * -1\n",
    "num = -1 * np.transpose(p2) * fx2\n",
    "den = np.transpose(p2) * q * p2\n",
    "alpha = num/den\n",
    "alpha = round(float(alpha),4)\n",
    "x3 = x2 + alpha * p2\n",
    "fx3 = (q * x3) - c\n",
    "fx3\n",
    "np.linalg.norm(fx3)"
   ]
  },
  {
   "cell_type": "code",
   "execution_count": 177,
   "metadata": {},
   "outputs": [
    {
     "data": {
      "text/plain": [
       "matrix([[ 5.00746408,  2.00676543,  0.99158545],\n",
       "        [ 2.00676543,  7.00616779,  2.99237504],\n",
       "        [ 0.99158545,  2.99237504,  9.00944004]])"
      ]
     },
     "execution_count": 177,
     "metadata": {},
     "output_type": "execute_result"
    }
   ],
   "source": [
    "s2 = x3 -x2\n",
    "y2 = fx3 - fx2\n",
    "numB = (y2 - (b2 * s2)) * np.transpose((y2 - (b2 * s2)))\n",
    "denB = np.transpose((y2 - (b2 * s2))) * s2\n",
    "delB = numB / round(float(denB),4)\n",
    "delB\n",
    "b3 = b2 + delB\n",
    "b3"
   ]
  },
  {
   "cell_type": "code",
   "execution_count": 180,
   "metadata": {},
   "outputs": [
    {
     "data": {
      "text/plain": [
       "matrix([[-1.99999999],\n",
       "        [ 1.00000001],\n",
       "        [-1.00000001]])"
      ]
     },
     "execution_count": 180,
     "metadata": {},
     "output_type": "execute_result"
    }
   ],
   "source": [
    "p3 = np.linalg.inv(b3) * fx3 * -1\n",
    "num = -1 * np.transpose(p3) * fx3\n",
    "den = np.transpose(p3) * q * p3\n",
    "alpha = num/den\n",
    "alpha = round(float(alpha),4)\n",
    "alpha\n",
    "x4 = x3 + alpha * p3\n",
    "x4"
   ]
  },
  {
   "cell_type": "code",
   "execution_count": 182,
   "metadata": {},
   "outputs": [
    {
     "data": {
      "text/plain": [
       "matrix([[  3.06675290e-08],\n",
       "        [  3.23938907e-08],\n",
       "        [ -5.49156347e-08]])"
      ]
     },
     "execution_count": 182,
     "metadata": {},
     "output_type": "execute_result"
    }
   ],
   "source": [
    "fx4 = (q * x4) - c\n",
    "fx4\n",
    "#np.linalg.norm(fx4)"
   ]
  },
  {
   "cell_type": "code",
   "execution_count": null,
   "metadata": {
    "collapsed": true
   },
   "outputs": [],
   "source": [
    "# Conjugate Gradient Descent"
   ]
  }
 ],
 "metadata": {
  "kernelspec": {
   "display_name": "Python 3",
   "language": "python",
   "name": "python3"
  },
  "language_info": {
   "codemirror_mode": {
    "name": "ipython",
    "version": 3
   },
   "file_extension": ".py",
   "mimetype": "text/x-python",
   "name": "python",
   "nbconvert_exporter": "python",
   "pygments_lexer": "ipython3",
   "version": "3.5.3"
  }
 },
 "nbformat": 4,
 "nbformat_minor": 2
}
